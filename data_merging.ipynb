{
 "cells": [
  {
   "cell_type": "code",
   "execution_count": 1,
   "id": "8fb77040",
   "metadata": {},
   "outputs": [],
   "source": [
    "import pandas as pd\n",
    "import glob"
   ]
  },
  {
   "cell_type": "code",
   "execution_count": 11,
   "id": "6408c825",
   "metadata": {},
   "outputs": [],
   "source": [
    "#combining all the csv files\n",
    "\n",
    "csv_files = glob.glob('../monthly_data/*.csv')"
   ]
  },
  {
   "cell_type": "code",
   "execution_count": 15,
   "id": "b524e2f3",
   "metadata": {},
   "outputs": [
    {
     "data": {
      "text/plain": [
       "['../monthly_data/Sales_December_2019.csv',\n",
       " '../monthly_data/Sales_April_2019.csv',\n",
       " '../monthly_data/Sales_February_2019.csv',\n",
       " '../monthly_data/Sales_March_2019.csv',\n",
       " '../monthly_data/Sales_August_2019.csv',\n",
       " '../monthly_data/Sales_May_2019.csv',\n",
       " '../monthly_data/Sales_November_2019.csv',\n",
       " '../monthly_data/Sales_October_2019.csv',\n",
       " '../monthly_data/Sales_January_2019.csv',\n",
       " '../monthly_data/Sales_September_2019.csv',\n",
       " '../monthly_data/Sales_July_2019.csv',\n",
       " '../monthly_data/Sales_June_2019.csv']"
      ]
     },
     "execution_count": 15,
     "metadata": {},
     "output_type": "execute_result"
    }
   ],
   "source": [
    "csv_files"
   ]
  },
  {
   "cell_type": "code",
   "execution_count": 12,
   "id": "80397f06",
   "metadata": {},
   "outputs": [],
   "source": [
    "combined_data = pd.DataFrame()"
   ]
  },
  {
   "cell_type": "code",
   "execution_count": 13,
   "id": "cf0b2ce2",
   "metadata": {},
   "outputs": [],
   "source": [
    "# merging all the csv files in a single data frames\n",
    "\n",
    "for file in csv_files:\n",
    "    df = pd.read_csv(file)  # Specify header=None to skip the header\n",
    "    combined_data = pd.concat([combined_data, df], ignore_index=True)"
   ]
  },
  {
   "cell_type": "code",
   "execution_count": 20,
   "id": "01ddd2f2",
   "metadata": {},
   "outputs": [
    {
     "data": {
      "text/plain": [
       "(186850, 6)"
      ]
     },
     "execution_count": 20,
     "metadata": {},
     "output_type": "execute_result"
    }
   ],
   "source": [
    "combined_data.shape"
   ]
  },
  {
   "cell_type": "code",
   "execution_count": 26,
   "id": "2b12c239",
   "metadata": {},
   "outputs": [],
   "source": [
    "# droping rows with column names in dataframe\n",
    "\n",
    "removed_column_names = combined_data.drop(combined_data[combined_data['Price Each'] == \"Price Each\"].index)"
   ]
  },
  {
   "cell_type": "code",
   "execution_count": 27,
   "id": "a3b6870b",
   "metadata": {
    "scrolled": true
   },
   "outputs": [
    {
     "data": {
      "text/plain": [
       "(186495, 6)"
      ]
     },
     "execution_count": 27,
     "metadata": {},
     "output_type": "execute_result"
    }
   ],
   "source": [
    "removed_column_names.shape"
   ]
  },
  {
   "cell_type": "code",
   "execution_count": 30,
   "id": "4291ae6c",
   "metadata": {},
   "outputs": [],
   "source": [
    "export = removed_column_names.to_csv('combined_data.csv')"
   ]
  },
  {
   "cell_type": "code",
   "execution_count": 29,
   "id": "b6debbbc",
   "metadata": {},
   "outputs": [],
   "source": []
  },
  {
   "cell_type": "code",
   "execution_count": null,
   "id": "73d23675",
   "metadata": {},
   "outputs": [],
   "source": []
  }
 ],
 "metadata": {
  "kernelspec": {
   "display_name": "test_env",
   "language": "python",
   "name": "test_env"
  },
  "language_info": {
   "codemirror_mode": {
    "name": "ipython",
    "version": 3
   },
   "file_extension": ".py",
   "mimetype": "text/x-python",
   "name": "python",
   "nbconvert_exporter": "python",
   "pygments_lexer": "ipython3",
   "version": "3.11.3"
  }
 },
 "nbformat": 4,
 "nbformat_minor": 5
}
